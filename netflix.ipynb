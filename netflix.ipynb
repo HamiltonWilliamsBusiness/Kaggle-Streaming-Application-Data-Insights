{
 "cells": [
  {
   "cell_type": "code",
   "execution_count": 26,
   "metadata": {},
   "outputs": [],
   "source": [
    "# Library Installations\n",
    "\n",
    "# !pip install pypyodbc\n",
    "# !pip install numpy\n",
    "# !pip install pandas\n"
   ]
  },
  {
   "cell_type": "code",
   "execution_count": 27,
   "metadata": {},
   "outputs": [],
   "source": [
    "# Imports\n",
    "\n",
    "import pypyodbc as odbc # pip install pypyodbc\n",
    "import numpy as np # pip install numpy\n",
    "import pandas as pd # pip install pandas"
   ]
  },
  {
   "cell_type": "code",
   "execution_count": 28,
   "metadata": {},
   "outputs": [
    {
     "name": "stdout",
     "output_type": "stream",
     "text": [
      "<pypyodbc.Connection object at 0x000001FC13576D30>\n"
     ]
    }
   ],
   "source": [
    "# Connect to database\n",
    "\n",
    "DRIVER_NAME =   \"SQL SERVER\"\n",
    "SERVER_NAME = \"LAPTOP-KBAD6AQA\\SQLEXPRESS\"\n",
    "DATABASE_NAME = 'Netflix'\n",
    "\n",
    "connection_string = f\"\"\"\n",
    "    DRIVER={{{DRIVER_NAME}}};\n",
    "    SERVER={{{SERVER_NAME}}};\n",
    "    DATABASE={{{DATABASE_NAME}}};\n",
    "    Trust_Connection=yes;\n",
    "\"\"\"\n",
    "\n",
    "conn = odbc.connect(connection_string)\n",
    "print(conn)\n"
   ]
  },
  {
   "cell_type": "code",
   "execution_count": 29,
   "metadata": {},
   "outputs": [
    {
     "name": "stdout",
     "output_type": "stream",
     "text": [
      "                                User_ID                            Session_ID  \\\n",
      "0  eb4f9229-74df-45f6-baac-cf19241b8b30  cb2142a7-0750-49ed-b8ac-a975fe1ff69a   \n",
      "1  661d4b59-4328-410a-901c-1e3b4c40c334  3bc0a662-b353-4015-8b0c-55ceb510d13a   \n",
      "2  dd3fe9e9-ea82-4891-ab93-8a47c80e3251  bd545b4a-9f54-4e87-b9f8-15ae20b44f22   \n",
      "3  a1b3365b-1d00-4ddf-bc43-02fc9c10c680  0441086d-c59e-478d-a496-5c5b995ecfdb   \n",
      "4  338d3f91-5f1c-4590-8803-324901826406  0295f01d-7f15-4799-856c-90c688697ef8   \n",
      "\n",
      "  Device_ID Video_ID Duration_Watched_minutes        Genre  \\\n",
      "0       232       11              90.04452533       Sci-Fi   \n",
      "1       549       85              68.97347929       Comedy   \n",
      "2       844       50              42.51134326       Comedy   \n",
      "3       201       38              53.31666005  Documentary   \n",
      "4       700       31              69.43778589       Action   \n",
      "\n",
      "                            Country Age  Gender Subscription_Status Ratings  \\\n",
      "0                             Sudan  56  Female             Premium       3   \n",
      "1                              Cuba  52    Male             Premium       3   \n",
      "2                             Japan  14  Female             Premium       3   \n",
      "3  Lao People's Democratic Republic  36    Male             Premium       2   \n",
      "4                        Bangladesh  31    Male             Premium       4   \n",
      "\n",
      "  Languages Device_Type          Location Playback_Quality Interaction_Events  \n",
      "0   Spanish  Smartphone         Reedshire               4K                 73  \n",
      "1   Chinese     Desktop       Stevenhaven               SD                 22  \n",
      "2   Spanish      Tablet        Vaughntown               HD                 41  \n",
      "3   Spanish      Laptop  East Raymondbury               SD                 40  \n",
      "4    German      Laptop    Michaelchester               HD                 41  \n"
     ]
    }
   ],
   "source": [
    "try:\n",
    "    # Establish a connection\n",
    "    conn = odbc.connect(connection_string)\n",
    "\n",
    "    # Create a cursor\n",
    "    cursor = conn.cursor()\n",
    "\n",
    "    # Example query\n",
    "    query = \"SELECT * FROM Streaming_Data\"\n",
    "    cursor.execute(query)\n",
    "\n",
    "    # Fetch and print results\n",
    "    rows = cursor.fetchall()\n",
    "\n",
    "    # Convert tuples to numpy arrays\n",
    "    arrays = [np.array(row) for row in rows]\n",
    "\n",
    "    # Create a DataFrame from the arrays\n",
    "    columns = [\"User_ID\", \"Session_ID\", \"Device_ID\", \"Video_ID\", \"Duration_Watched_minutes\",\"Genre\", \"Country\", \"Age\", \"Gender\", \"Subscription_Status\", \"Ratings\", \"Languages\", \"Device_Type\", \"Location\", \"Playback_Quality\", \"Interaction_Events\"]\n",
    "    df = pd.DataFrame(arrays, columns=columns)\n",
    "\n",
    "    # Print the DataFrame\n",
    "    print(df.head())\n",
    "\n",
    "except odbc.Error as e:\n",
    "    print(f\"Error: {e}\")\n",
    "\n",
    "finally:\n",
    "    # Close the connection\n",
    "    if conn:\n",
    "        conn.close()"
   ]
  },
  {
   "cell_type": "code",
   "execution_count": 30,
   "metadata": {},
   "outputs": [
    {
     "name": "stdout",
     "output_type": "stream",
     "text": [
      "  Duration_Watched_minutes        Genre                           Country Age  \\\n",
      "0              90.04452533       Sci-Fi                             Sudan  56   \n",
      "1              68.97347929       Comedy                              Cuba  52   \n",
      "2              42.51134326       Comedy                             Japan  14   \n",
      "3              53.31666005  Documentary  Lao People's Democratic Republic  36   \n",
      "4              69.43778589       Action                        Bangladesh  31   \n",
      "\n",
      "   Gender Subscription_Status Ratings Languages Device_Type          Location  \\\n",
      "0  Female             Premium       3   Spanish  Smartphone         Reedshire   \n",
      "1    Male             Premium       3   Chinese     Desktop       Stevenhaven   \n",
      "2  Female             Premium       3   Spanish      Tablet        Vaughntown   \n",
      "3    Male             Premium       2   Spanish      Laptop  East Raymondbury   \n",
      "4    Male             Premium       4    German      Laptop    Michaelchester   \n",
      "\n",
      "  Playback_Quality Interaction_Events  \n",
      "0               4K                 73  \n",
      "1               SD                 22  \n",
      "2               HD                 41  \n",
      "3               SD                 40  \n",
      "4               HD                 41  \n"
     ]
    }
   ],
   "source": [
    "# Cleaning the DataFrame\n",
    "\n",
    "clean_df = df.iloc[:, 4:]\n",
    "print(clean_df.head())"
   ]
  },
  {
   "cell_type": "code",
   "execution_count": null,
   "metadata": {},
   "outputs": [],
   "source": [
    "# Identifying the most popular genres"
   ]
  },
  {
   "cell_type": "code",
   "execution_count": null,
   "metadata": {},
   "outputs": [],
   "source": [
    "# User demographics, analyze age, gender, and location to understand the audience profile."
   ]
  },
  {
   "cell_type": "code",
   "execution_count": null,
   "metadata": {},
   "outputs": [],
   "source": [
    "# Analyzing the types of devices people use netflix with "
   ]
  },
  {
   "cell_type": "code",
   "execution_count": null,
   "metadata": {},
   "outputs": [],
   "source": [
    "# Analyze the viewing duration, what is the average, what do people watch the most?"
   ]
  },
  {
   "cell_type": "code",
   "execution_count": 31,
   "metadata": {},
   "outputs": [],
   "source": [
    "# Geographic Trends\n",
    "\n",
    "# Explore user activity based on geographic location to identify regional content preferences or target specific regions for content promotions."
   ]
  },
  {
   "cell_type": "code",
   "execution_count": null,
   "metadata": {},
   "outputs": [],
   "source": []
  }
 ],
 "metadata": {
  "kernelspec": {
   "display_name": "base",
   "language": "python",
   "name": "python3"
  },
  "language_info": {
   "codemirror_mode": {
    "name": "ipython",
    "version": 3
   },
   "file_extension": ".py",
   "mimetype": "text/x-python",
   "name": "python",
   "nbconvert_exporter": "python",
   "pygments_lexer": "ipython3",
   "version": "3.9.13"
  }
 },
 "nbformat": 4,
 "nbformat_minor": 2
}
