{
 "cells": [
  {
   "cell_type": "markdown",
   "metadata": {},
   "source": [
    "### Library Installations"
   ]
  },
  {
   "cell_type": "code",
   "execution_count": 6,
   "metadata": {},
   "outputs": [],
   "source": [
    "# Library Installations\n",
    "\n",
    "# !pip install pypyodbc\n",
    "# !pip install numpy\n",
    "# !pip install pandas\n"
   ]
  },
  {
   "cell_type": "markdown",
   "metadata": {},
   "source": [
    "### Library Imports"
   ]
  },
  {
   "cell_type": "code",
   "execution_count": 7,
   "metadata": {},
   "outputs": [],
   "source": [
    "# Imports\n",
    "\n",
    "import pypyodbc as odbc # pip install pypyodbc\n",
    "import numpy as np # pip install numpy\n",
    "import pandas as pd # pip install pandas"
   ]
  },
  {
   "cell_type": "markdown",
   "metadata": {},
   "source": [
    "### Preparing to Connect To Database"
   ]
  },
  {
   "cell_type": "code",
   "execution_count": 8,
   "metadata": {},
   "outputs": [],
   "source": [
    "# Connect to database\n",
    "\n",
    "DRIVER_NAME =   \"SQL SERVER\"\n",
    "SERVER_NAME = \"LAPTOP-KBAD6AQA\\SQLEXPRESS\"\n",
    "DATABASE_NAME = 'Netflix'\n",
    "\n",
    "connection_string = f\"\"\"\n",
    "    DRIVER={{{DRIVER_NAME}}};\n",
    "    SERVER={{{SERVER_NAME}}};\n",
    "    DATABASE={{{DATABASE_NAME}}};\n",
    "    Trust_Connection=yes;\n",
    "\"\"\"\n"
   ]
  },
  {
   "cell_type": "markdown",
   "metadata": {},
   "source": [
    "### Connecting To Database and Fetching Table "
   ]
  },
  {
   "cell_type": "code",
   "execution_count": 25,
   "metadata": {},
   "outputs": [
    {
     "name": "stdout",
     "output_type": "stream",
     "text": [
      "                                User_ID                            Session_ID  \\\n",
      "0  eb4f9229-74df-45f6-baac-cf19241b8b30  cb2142a7-0750-49ed-b8ac-a975fe1ff69a   \n",
      "1  661d4b59-4328-410a-901c-1e3b4c40c334  3bc0a662-b353-4015-8b0c-55ceb510d13a   \n",
      "2  dd3fe9e9-ea82-4891-ab93-8a47c80e3251  bd545b4a-9f54-4e87-b9f8-15ae20b44f22   \n",
      "3  a1b3365b-1d00-4ddf-bc43-02fc9c10c680  0441086d-c59e-478d-a496-5c5b995ecfdb   \n",
      "4  338d3f91-5f1c-4590-8803-324901826406  0295f01d-7f15-4799-856c-90c688697ef8   \n",
      "\n",
      "  Device_ID Video_ID Duration_Watched_minutes        Genre  \\\n",
      "0       232       11              90.04452533       Sci-Fi   \n",
      "1       549       85              68.97347929       Comedy   \n",
      "2       844       50              42.51134326       Comedy   \n",
      "3       201       38              53.31666005  Documentary   \n",
      "4       700       31              69.43778589       Action   \n",
      "\n",
      "                            Country Age  Gender Subscription_Status Ratings  \\\n",
      "0                             Sudan  56  Female             Premium       3   \n",
      "1                              Cuba  52    Male             Premium       3   \n",
      "2                             Japan  14  Female             Premium       3   \n",
      "3  Lao People's Democratic Republic  36    Male             Premium       2   \n",
      "4                        Bangladesh  31    Male             Premium       4   \n",
      "\n",
      "  Languages Device_Type          Location Playback_Quality Interaction_Events  \n",
      "0   Spanish  Smartphone         Reedshire               4K                 73  \n",
      "1   Chinese     Desktop       Stevenhaven               SD                 22  \n",
      "2   Spanish      Tablet        Vaughntown               HD                 41  \n",
      "3   Spanish      Laptop  East Raymondbury               SD                 40  \n",
      "4    German      Laptop    Michaelchester               HD                 41  \n"
     ]
    }
   ],
   "source": [
    "try:\n",
    "    # Establish a connection\n",
    "    conn = odbc.connect(connection_string)\n",
    "\n",
    "    # Create a cursor\n",
    "    cursor = conn.cursor()\n",
    "\n",
    "    # Example query\n",
    "    query = \"SELECT * FROM Streaming_Data\"\n",
    "    cursor.execute(query)\n",
    "\n",
    "    # Fetch and print results\n",
    "    rows = cursor.fetchall()\n",
    "\n",
    "    # Convert tuples to numpy arrays\n",
    "    arrays = [np.array(row) for row in rows]\n",
    "\n",
    "    # Create a DataFrame from the arrays\n",
    "    columns = [\"User_ID\", \"Session_ID\", \"Device_ID\", \"Video_ID\", \"Duration_Watched_minutes\",\"Genre\", \"Country\", \"Age\", \"Gender\", \"Subscription_Status\", \"Ratings\", \"Languages\", \"Device_Type\", \"Location\", \"Playback_Quality\", \"Interaction_Events\"]\n",
    "    df = pd.DataFrame(arrays, columns=columns)\n",
    "\n",
    "    # Print the DataFrame\n",
    "    print(df.head())\n",
    "\n",
    "except odbc.Error as e:\n",
    "    print(f\"Error: {e}\")\n",
    "\n",
    "finally:\n",
    "    # Close the connection\n",
    "    if conn:\n",
    "        conn.close()"
   ]
  },
  {
   "cell_type": "markdown",
   "metadata": {},
   "source": [
    "### Cleaning DataFrame"
   ]
  },
  {
   "cell_type": "code",
   "execution_count": 10,
   "metadata": {},
   "outputs": [
    {
     "name": "stdout",
     "output_type": "stream",
     "text": [
      "  Duration_Watched_minutes        Genre                           Country Age  \\\n",
      "0              90.04452533       Sci-Fi                             Sudan  56   \n",
      "1              68.97347929       Comedy                              Cuba  52   \n",
      "2              42.51134326       Comedy                             Japan  14   \n",
      "3              53.31666005  Documentary  Lao People's Democratic Republic  36   \n",
      "4              69.43778589       Action                        Bangladesh  31   \n",
      "\n",
      "   Gender Subscription_Status Ratings Languages Device_Type          Location  \\\n",
      "0  Female             Premium       3   Spanish  Smartphone         Reedshire   \n",
      "1    Male             Premium       3   Chinese     Desktop       Stevenhaven   \n",
      "2  Female             Premium       3   Spanish      Tablet        Vaughntown   \n",
      "3    Male             Premium       2   Spanish      Laptop  East Raymondbury   \n",
      "4    Male             Premium       4    German      Laptop    Michaelchester   \n",
      "\n",
      "  Playback_Quality Interaction_Events  \n",
      "0               4K                 73  \n",
      "1               SD                 22  \n",
      "2               HD                 41  \n",
      "3               SD                 40  \n",
      "4               HD                 41  \n"
     ]
    }
   ],
   "source": [
    "# Cleaning the DataFrame\n",
    "\n",
    "clean_df = df.iloc[:, 4:]\n",
    "print(clean_df.head())"
   ]
  },
  {
   "cell_type": "code",
   "execution_count": 11,
   "metadata": {},
   "outputs": [
    {
     "name": "stdout",
     "output_type": "stream",
     "text": [
      "Most popular genres:\n",
      "Documentary    1065\n",
      "Thriller       1050\n",
      "Sci-Fi         1041\n",
      "Comedy         1033\n",
      "Action         1030\n",
      "Name: Genre, dtype: int64\n"
     ]
    },
    {
     "data": {
      "image/png": "[encoded data removed]",
      "text/plain": [
       "<Figure size 640x480 with 1 Axes>"
      ]
     },
     "metadata": {},
     "output_type": "display_data"
    }
   ],
   "source": [
    "# Identifying the most popular genres\n",
    "\n",
    "# Assuming 'Genre' is the column containing genre information\n",
    "genre_counts = df['Genre'].value_counts()\n",
    "\n",
    "# Print the most popular genres\n",
    "print(\"Most popular genres:\")\n",
    "print(genre_counts.head())\n",
    "\n",
    "\n",
    "import matplotlib.pyplot as plt\n",
    "\n",
    "# Plot the most popular genres\n",
    "genre_counts.head().plot(kind='bar')\n",
    "plt.title('Most Popular Genres')\n",
    "plt.xlabel('Genre')\n",
    "plt.ylabel('Count')\n",
    "plt.show()\n"
   ]
  },
  {
   "cell_type": "code",
   "execution_count": 49,
   "metadata": {},
   "outputs": [
    {
     "name": "stdout",
     "output_type": "stream",
     "text": [
      "         Genre   Ratings\n",
      "0       Action  3.041748\n",
      "1       Comedy  3.013553\n",
      "2  Documentary  2.928638\n",
      "3        Drama  3.016080\n",
      "4       Sci-Fi  2.962536\n",
      "5     Thriller  2.965714\n"
     ]
    }
   ],
   "source": [
    "# Convert 'Ratings' column to integers\n",
    "df['Ratings'] = df['Ratings'].astype(int)\n",
    "\n",
    "# Filter out rows with zero ratings\n",
    "filtered_df = df[df['Ratings'] > 0]\n",
    "\n",
    "# Group by 'Genre' and get the 'Ratings' for each group\n",
    "genre_ratings = filtered_df.groupby('Genre')['Ratings'].mean().reset_index()\n",
    "\n",
    "# Print the DataFrame with genres and their mean ratings\n",
    "print(genre_ratings)"
   ]
  },
  {
   "cell_type": "code",
   "execution_count": 48,
   "metadata": {},
   "outputs": [
    {
     "name": "stdout",
     "output_type": "stream",
     "text": [
      "<pandas.core.groupby.generic.SeriesGroupBy object at 0x0000022AEFBDF370>\n",
      "Genre: Action, Ratings: 3.041747572815534\n",
      "Genre: Comedy, Ratings: 3.0135527589545013\n",
      "Genre: Documentary, Ratings: 2.928638497652582\n",
      "Genre: Drama, Ratings: 3.0160804020100502\n",
      "Genre: Sci-Fi, Ratings: 2.962536023054755\n",
      "Genre: Thriller, Ratings: 2.9657142857142857\n"
     ]
    }
   ],
   "source": []
  },
  {
   "cell_type": "markdown",
   "metadata": {},
   "source": [
    "Ideas\n",
    "\n",
    "- Choose the most popular genre by the highest average watch time\n",
    "- Choose the most popular genre by highest ratings "
   ]
  },
  {
   "cell_type": "code",
   "execution_count": 30,
   "metadata": {},
   "outputs": [
    {
     "ename": "NameError",
     "evalue": "name 'filtered_df' is not defined",
     "output_type": "error",
     "traceback": [
      "\u001b[1;31m---------------------------------------------------------------------------\u001b[0m",
      "\u001b[1;31mNameError\u001b[0m                                 Traceback (most recent call last)",
      "\u001b[1;32m~\\AppData\\Local\\Temp\\ipykernel_12740\\2774371339.py\u001b[0m in \u001b[0;36m<module>\u001b[1;34m\u001b[0m\n\u001b[0;32m      3\u001b[0m \u001b[1;33m\u001b[0m\u001b[0m\n\u001b[0;32m      4\u001b[0m \u001b[1;31m# Group by 'Genre' and get the 'Ratings' for each group\u001b[0m\u001b[1;33m\u001b[0m\u001b[1;33m\u001b[0m\u001b[0m\n\u001b[1;32m----> 5\u001b[1;33m \u001b[0mgenre_ratings\u001b[0m \u001b[1;33m=\u001b[0m \u001b[0mfiltered_df\u001b[0m\u001b[1;33m.\u001b[0m\u001b[0mgroupby\u001b[0m\u001b[1;33m(\u001b[0m\u001b[1;34m'Genre'\u001b[0m\u001b[1;33m)\u001b[0m\u001b[1;33m[\u001b[0m\u001b[1;34m'Ratings'\u001b[0m\u001b[1;33m]\u001b[0m\u001b[1;33m\u001b[0m\u001b[1;33m\u001b[0m\u001b[0m\n\u001b[0m\u001b[0;32m      6\u001b[0m \u001b[1;33m\u001b[0m\u001b[0m\n\u001b[0;32m      7\u001b[0m \u001b[1;31m# Print genres and their ratings\u001b[0m\u001b[1;33m\u001b[0m\u001b[1;33m\u001b[0m\u001b[0m\n",
      "\u001b[1;31mNameError\u001b[0m: name 'filtered_df' is not defined"
     ]
    }
   ],
   "source": []
  },
  {
   "cell_type": "code",
   "execution_count": 24,
   "metadata": {},
   "outputs": [
    {
     "name": "stdout",
     "output_type": "stream",
     "text": [
      "0       3\n",
      "1       3\n",
      "2       3\n",
      "3       2\n",
      "4       4\n",
      "       ..\n",
      "6209    3\n",
      "6210    4\n",
      "6211    5\n",
      "6212    5\n",
      "6213    4\n",
      "Name: Ratings, Length: 6214, dtype: object\n"
     ]
    }
   ],
   "source": [
    "print(df.Ratings)"
   ]
  },
  {
   "cell_type": "code",
   "execution_count": 13,
   "metadata": {},
   "outputs": [],
   "source": [
    "# User demographics, analyze age, gender, and location to understand the audience profile."
   ]
  },
  {
   "cell_type": "code",
   "execution_count": 14,
   "metadata": {},
   "outputs": [],
   "source": [
    "# Analyzing the types of devices people use netflix with "
   ]
  },
  {
   "cell_type": "code",
   "execution_count": 15,
   "metadata": {},
   "outputs": [],
   "source": [
    "# Analyze the viewing duration, what is the average, what do people watch the most?"
   ]
  },
  {
   "cell_type": "code",
   "execution_count": 16,
   "metadata": {},
   "outputs": [],
   "source": [
    "# Geographic Trends\n",
    "\n",
    "# Explore user activity based on geographic location to identify regional content preferences or target specific regions for content promotions."
   ]
  },
  {
   "cell_type": "markdown",
   "metadata": {},
   "source": [
    "Ideas to Improve Code\n",
    "\n",
    "Functions"
   ]
  },
  {
   "cell_type": "markdown",
   "metadata": {},
   "source": [
    "Notes of What I have Learned\n",
    "\n",
    "- Always know what are all the options that a column can have for a value\n",
    "- Always know the data type that the values of the column you are working with are, ex. make sure numbers are not strings"
   ]
  },
  {
   "cell_type": "code",
   "execution_count": null,
   "metadata": {},
   "outputs": [],
   "source": []
  }
 ],
 "metadata": {
  "kernelspec": {
   "display_name": "base",
   "language": "python",
   "name": "python3"
  },
  "language_info": {
   "codemirror_mode": {
    "name": "ipython",
    "version": 3
   },
   "file_extension": ".py",
   "mimetype": "text/x-python",
   "name": "python",
   "nbconvert_exporter": "python",
   "pygments_lexer": "ipython3",
   "version": "3.9.13"
  }
 },
 "nbformat": 4,
 "nbformat_minor": 2
}
