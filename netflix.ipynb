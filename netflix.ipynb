{
 "cells": [
  {
   "cell_type": "markdown",
   "metadata": {},
   "source": [
    "# Library Installations"
   ]
  },
  {
   "cell_type": "code",
   "execution_count": 82,
   "metadata": {},
   "outputs": [],
   "source": [
    "# Library Installations\n",
    "\n",
    "# !pip install pypyodbc\n",
    "# !pip install numpy\n",
    "# !pip install pandas\n",
    "# !pip install matplotlib"
   ]
  },
  {
   "cell_type": "markdown",
   "metadata": {},
   "source": [
    "# Library Imports"
   ]
  },
  {
   "cell_type": "code",
   "execution_count": 112,
   "metadata": {},
   "outputs": [],
   "source": [
    "# Imports\n",
    "\n",
    "import pypyodbc as odbc # pip install pypyodbc\n",
    "import numpy as np # pip install numpy\n",
    "import pandas as pd # pip install pandas\n",
    "import matplotlib.pyplot as plt # pip install matplotlib"
   ]
  },
  {
   "cell_type": "markdown",
   "metadata": {},
   "source": [
    "# Connecting To Database & Fetching Data"
   ]
  },
  {
   "cell_type": "markdown",
   "metadata": {},
   "source": [
    "## Creating Connection String"
   ]
  },
  {
   "cell_type": "code",
   "execution_count": 84,
   "metadata": {},
   "outputs": [],
   "source": [
    "# Connect to database\n",
    "\n",
    "DRIVER_NAME =   \"SQL SERVER\"\n",
    "SERVER_NAME = \"LAPTOP-KBAD6AQA\\SQLEXPRESS\"\n",
    "DATABASE_NAME = 'Netflix'\n",
    "\n",
    "connection_string = f\"\"\"\n",
    "    DRIVER={{{DRIVER_NAME}}};\n",
    "    SERVER={{{SERVER_NAME}}};\n",
    "    DATABASE={{{DATABASE_NAME}}};\n",
    "    Trust_Connection=yes;\n",
    "\"\"\"\n"
   ]
  },
  {
   "cell_type": "markdown",
   "metadata": {},
   "source": [
    "## Establishing A Connection To Database and Fetching Data"
   ]
  },
  {
   "cell_type": "code",
   "execution_count": 111,
   "metadata": {},
   "outputs": [],
   "source": [
    "try:\n",
    "    # Establish a connection\n",
    "    conn = odbc.connect(connection_string)\n",
    "\n",
    "    # Create a cursor\n",
    "    cursor = conn.cursor()\n",
    "\n",
    "    # Example query\n",
    "    query = \"SELECT * FROM Streaming_Data\"\n",
    "    cursor.execute(query)\n",
    "\n",
    "    # Fetch and print results\n",
    "    rows = cursor.fetchall()\n",
    "\n",
    "except odbc.Error as e:\n",
    "    # Print Error\n",
    "    print(f\"Error: {e}\")\n",
    "\n",
    "finally:\n",
    "    # Close the connection\n",
    "    if conn:\n",
    "        conn.close()"
   ]
  },
  {
   "cell_type": "markdown",
   "metadata": {},
   "source": [
    "# Creating a Dataframe"
   ]
  },
  {
   "cell_type": "code",
   "execution_count": 86,
   "metadata": {},
   "outputs": [
    {
     "name": "stdout",
     "output_type": "stream",
     "text": [
      "                                User_ID                            Session_ID  \\\n",
      "0  eb4f9229-74df-45f6-baac-cf19241b8b30  cb2142a7-0750-49ed-b8ac-a975fe1ff69a   \n",
      "1  661d4b59-4328-410a-901c-1e3b4c40c334  3bc0a662-b353-4015-8b0c-55ceb510d13a   \n",
      "2  dd3fe9e9-ea82-4891-ab93-8a47c80e3251  bd545b4a-9f54-4e87-b9f8-15ae20b44f22   \n",
      "3  a1b3365b-1d00-4ddf-bc43-02fc9c10c680  0441086d-c59e-478d-a496-5c5b995ecfdb   \n",
      "4  338d3f91-5f1c-4590-8803-324901826406  0295f01d-7f15-4799-856c-90c688697ef8   \n",
      "\n",
      "  Device_ID Video_ID Duration_Watched_minutes        Genre  \\\n",
      "0       232       11              90.04452533       Sci-Fi   \n",
      "1       549       85              68.97347929       Comedy   \n",
      "2       844       50              42.51134326       Comedy   \n",
      "3       201       38              53.31666005  Documentary   \n",
      "4       700       31              69.43778589       Action   \n",
      "\n",
      "                            Country Age  Gender Subscription_Status Ratings  \\\n",
      "0                             Sudan  56  Female             Premium       3   \n",
      "1                              Cuba  52    Male             Premium       3   \n",
      "2                             Japan  14  Female             Premium       3   \n",
      "3  Lao People's Democratic Republic  36    Male             Premium       2   \n",
      "4                        Bangladesh  31    Male             Premium       4   \n",
      "\n",
      "  Languages Device_Type          Location Playback_Quality Interaction_Events  \n",
      "0   Spanish  Smartphone         Reedshire               4K                 73  \n",
      "1   Chinese     Desktop       Stevenhaven               SD                 22  \n",
      "2   Spanish      Tablet        Vaughntown               HD                 41  \n",
      "3   Spanish      Laptop  East Raymondbury               SD                 40  \n",
      "4    German      Laptop    Michaelchester               HD                 41  \n"
     ]
    }
   ],
   "source": [
    "# Convert tuples to numpy arrays\n",
    "arrays = [np.array(row) for row in rows]\n",
    "\n",
    "# Create a DataFrame from the arrays\n",
    "columns = [\"User_ID\", \"Session_ID\", \"Device_ID\", \"Video_ID\", \"Duration_Watched_minutes\",\"Genre\", \"Country\", \"Age\", \"Gender\", \"Subscription_Status\", \"Ratings\", \"Languages\", \"Device_Type\", \"Location\", \"Playback_Quality\", \"Interaction_Events\"]\n",
    "df = pd.DataFrame(arrays, columns=columns)\n",
    "\n",
    "# Print the DataFrame\n",
    "print(df.head())"
   ]
  },
  {
   "cell_type": "markdown",
   "metadata": {},
   "source": [
    "# Cleaning DataFrame"
   ]
  },
  {
   "cell_type": "markdown",
   "metadata": {},
   "source": [
    "## Getting Rid Of Not Needed Columns"
   ]
  },
  {
   "cell_type": "code",
   "execution_count": 87,
   "metadata": {},
   "outputs": [],
   "source": [
    "# Getting rid of User_ID, Session_ID, Device_ID, Video_ID columns \n",
    "df = df.iloc[:, 4:]"
   ]
  },
  {
   "cell_type": "markdown",
   "metadata": {},
   "source": [
    "## Checking Data Types Of Columns"
   ]
  },
  {
   "cell_type": "code",
   "execution_count": 88,
   "metadata": {},
   "outputs": [
    {
     "name": "stdout",
     "output_type": "stream",
     "text": [
      "Column: Duration_Watched_minutes, Unique Data Types: [<class 'numpy.str_'>]\n",
      "Column: Genre, Unique Data Types: [<class 'numpy.str_'>]\n",
      "Column: Country, Unique Data Types: [<class 'numpy.str_'>]\n",
      "Column: Age, Unique Data Types: [<class 'numpy.str_'>]\n",
      "Column: Gender, Unique Data Types: [<class 'numpy.str_'>]\n",
      "Column: Subscription_Status, Unique Data Types: [<class 'numpy.str_'>]\n",
      "Column: Ratings, Unique Data Types: [<class 'numpy.str_'>]\n",
      "Column: Languages, Unique Data Types: [<class 'numpy.str_'>]\n",
      "Column: Device_Type, Unique Data Types: [<class 'numpy.str_'>]\n",
      "Column: Location, Unique Data Types: [<class 'numpy.str_'>]\n",
      "Column: Playback_Quality, Unique Data Types: [<class 'numpy.str_'>]\n",
      "Column: Interaction_Events, Unique Data Types: [<class 'numpy.str_'>]\n"
     ]
    }
   ],
   "source": [
    "for column in df.columns:\n",
    "    data_type_series = df[column].apply(type)\n",
    "    unique_data_types = data_type_series.unique()\n",
    "    print(f\"Column: {column}, Unique Data Types: {unique_data_types}\")\n"
   ]
  },
  {
   "cell_type": "markdown",
   "metadata": {},
   "source": [
    "## Converting Columns To the Correct Data Type"
   ]
  },
  {
   "cell_type": "code",
   "execution_count": 89,
   "metadata": {},
   "outputs": [],
   "source": [
    "# Convert 'Duration_Watched_minutes' column to float\n",
    "df['Duration_Watched_minutes'] = df['Duration_Watched_minutes'].astype(float)\n",
    "\n",
    "# Convert 'Age' column to integers\n",
    "df['Age'] = df['Age'].astype(int)\n",
    "\n",
    "# Convert 'Ratings' column to integers\n",
    "df['Ratings'] = df['Ratings'].astype(int)\n",
    "\n",
    "# Convert 'Interaction_Events' column to integers\n",
    "df['Interaction_Events'] = df['Interaction_Events'].astype(int)"
   ]
  },
  {
   "cell_type": "markdown",
   "metadata": {},
   "source": [
    "## Verifying Data Types Changes Of Columns Was Successful"
   ]
  },
  {
   "cell_type": "code",
   "execution_count": 110,
   "metadata": {},
   "outputs": [
    {
     "name": "stdout",
     "output_type": "stream",
     "text": [
      "Column: Duration_Watched_minutes, Data Type: float64\n",
      "Column: Genre, Unique Data Types: [<class 'numpy.str_'>]\n",
      "Column: Country, Unique Data Types: [<class 'numpy.str_'>]\n",
      "Column: Age, Data Type: int32\n",
      "Column: Gender, Unique Data Types: [<class 'numpy.str_'>]\n",
      "Column: Subscription_Status, Unique Data Types: [<class 'numpy.str_'>]\n",
      "Column: Ratings, Data Type: int32\n",
      "Column: Languages, Unique Data Types: [<class 'numpy.str_'>]\n",
      "Column: Device_Type, Unique Data Types: [<class 'numpy.str_'>]\n",
      "Column: Location, Unique Data Types: [<class 'numpy.str_'>]\n",
      "Column: Playback_Quality, Unique Data Types: [<class 'numpy.str_'>]\n",
      "Column: Interaction_Events, Data Type: int32\n"
     ]
    }
   ],
   "source": [
    "# Iterates Through Columns In Database\n",
    "for column in df.columns:\n",
    "\n",
    "    # Gets Data Type of Column\n",
    "    data_type = df[column].dtype\n",
    "\n",
    "    # Boolean Statements Display Variable Type & Size Information if Int or Float\n",
    "    if np.issubdtype(data_type, np.integer):\n",
    "        int_size = np.iinfo(data_type).bits\n",
    "        print(f\"Column: {column}, Data Type: int{int_size}\")\n",
    "    elif np.issubdtype(data_type, np.floating):\n",
    "        float_size = np.finfo(data_type).bits\n",
    "        print(f\"Column: {column}, Data Type: float{float_size}\")\n",
    "    else:\n",
    "        print(f\"Column: {column}, Unique Data Types: {df[column].apply(type).unique()}\")\n"
   ]
  },
  {
   "cell_type": "markdown",
   "metadata": {},
   "source": [
    "## Checking For Missing Values within DataSet"
   ]
  },
  {
   "cell_type": "code",
   "execution_count": 91,
   "metadata": {},
   "outputs": [],
   "source": [
    "# Check for missing values, special symbols, None, and empty strings\n",
    "missing_values = df.applymap(lambda x: pd.isna(x) or x is None or x == \"\" or str(x).strip() == \"\")\n",
    "\n",
    "# Identify rows with missing values\n",
    "rows_with_missing = missing_values.any(axis=1)\n",
    "\n",
    "# Remove rows with missing values\n",
    "df_cleaned = df[~rows_with_missing]\n",
    "\n",
    "# Display information about the removed rows\n",
    "removed_rows = df[rows_with_missing]\n",
    "print(f\"Number of removed rows with missing values: {len(removed_rows)}\")\n",
    "print(removed_rows)"
   ]
  },
  {
   "cell_type": "markdown",
   "metadata": {},
   "source": [
    "## Checking For Duplicate Rows Within DataSet"
   ]
  },
  {
   "cell_type": "code",
   "execution_count": 92,
   "metadata": {},
   "outputs": [
    {
     "name": "stdout",
     "output_type": "stream",
     "text": [
      "Duplicate Rows:\n",
      "Empty DataFrame\n",
      "Columns: [Duration_Watched_minutes, Genre, Country, Age, Gender, Subscription_Status, Ratings, Languages, Device_Type, Location, Playback_Quality, Interaction_Events]\n",
      "Index: []\n"
     ]
    }
   ],
   "source": [
    "# Check for duplicate rows\n",
    "duplicate_rows = df.duplicated()\n",
    "\n",
    "# Identify and print duplicate rows\n",
    "duplicates = df[duplicate_rows]\n",
    "print(\"Duplicate Rows:\")\n",
    "print(duplicates)\n",
    "\n",
    "# Drop duplicate rows and create a new DataFrame\n",
    "df_no_duplicates = df.drop_duplicates()\n",
    "\n",
    "# Display information about the cleaned DataFrame\n",
    "print(\"DataFrame without Duplicates:\")\n",
    "print(df_no_duplicates.head())"
   ]
  },
  {
   "cell_type": "markdown",
   "metadata": {},
   "source": [
    "## Checking For Outliers Within DataSet"
   ]
  },
  {
   "cell_type": "code",
   "execution_count": 107,
   "metadata": {},
   "outputs": [
    {
     "name": "stdout",
     "output_type": "stream",
     "text": [
      "Rows with Outliers:\n",
      "Empty DataFrame\n",
      "Columns: [Duration_Watched_minutes, Genre, Country, Age, Gender, Subscription_Status, Ratings, Languages, Device_Type, Location, Playback_Quality, Interaction_Events]\n",
      "Index: []\n"
     ]
    }
   ],
   "source": [
    "# Define a function to identify outliers based on IQR\n",
    "def identify_outliers(column):\n",
    "    Q1 = column.quantile(0.25)\n",
    "    Q3 = column.quantile(0.75)\n",
    "    IQR = Q3 - Q1\n",
    "\n",
    "    lower_bound = Q1 - 1.5 * IQR\n",
    "    upper_bound = Q3 + 1.5 * IQR\n",
    "\n",
    "    outliers = (column < lower_bound) | (column > upper_bound)\n",
    "    return outliers\n",
    "\n",
    "# Apply the function to each numeric column in the DataFrame\n",
    "numeric_columns = df.select_dtypes(include=['float64', 'int64', 'int32', 'float32']).columns\n",
    "outliers_df = df[numeric_columns].apply(identify_outliers)\n",
    "\n",
    "# Display rows with outliers\n",
    "rows_with_outliers = df[outliers_df.any(axis=1)]\n",
    "print(\"Rows with Outliers:\")\n",
    "print(rows_with_outliers)\n",
    "\n",
    "# Alternatively, you can remove rows with outliers\n",
    "df_no_outliers = df[~outliers_df.any(axis=1)]\n",
    "print(\"DataFrame without Outliers:\")\n",
    "print(df_no_outliers.head())\n"
   ]
  },
  {
   "cell_type": "markdown",
   "metadata": {},
   "source": [
    "# Data Analysis"
   ]
  },
  {
   "cell_type": "markdown",
   "metadata": {},
   "source": [
    "## Genres Analysis"
   ]
  },
  {
   "cell_type": "markdown",
   "metadata": {},
   "source": [
    "### Most Highly Rated Genres on Netflix"
   ]
  },
  {
   "cell_type": "code",
   "execution_count": 114,
   "metadata": {},
   "outputs": [
    {
     "name": "stdout",
     "output_type": "stream",
     "text": [
      "         Genre   Ratings\n",
      "0       Action  3.041748\n",
      "1       Comedy  3.013553\n",
      "2  Documentary  2.928638\n",
      "3        Drama  3.016080\n",
      "4       Sci-Fi  2.962536\n",
      "5     Thriller  2.965714\n"
     ]
    }
   ],
   "source": [
    "# Group by 'Genre' and get the 'Ratings' for each group\n",
    "genre_ratings = filtered_df.groupby('Genre')['Ratings'].mean().reset_index()\n",
    "\n",
    "# Print the DataFrame with genres and their mean ratings\n",
    "print(genre_ratings)"
   ]
  },
  {
   "cell_type": "markdown",
   "metadata": {},
   "source": [
    "### Most Watched Genres on Netflix"
   ]
  },
  {
   "cell_type": "code",
   "execution_count": 115,
   "metadata": {},
   "outputs": [
    {
     "name": "stdout",
     "output_type": "stream",
     "text": [
      "         Genre  Duration_Watched_minutes\n",
      "0       Action                 60.164136\n",
      "1       Comedy                 58.563143\n",
      "2  Documentary                 62.049858\n",
      "3        Drama                 60.714402\n",
      "4       Sci-Fi                 59.993830\n",
      "5     Thriller                 60.741918\n"
     ]
    }
   ],
   "source": [
    "# Group by 'Genre' and get the mean of 'Duration_Watched_minutes'\n",
    "genre_ratings = filtered_df.groupby('Genre')['Duration_Watched_minutes'].mean().reset_index()\n",
    "\n",
    "# Print the DataFrame with genres and their mean ratings\n",
    "print(genre_ratings)"
   ]
  },
  {
   "cell_type": "markdown",
   "metadata": {},
   "source": [
    "### Most Popular Genres On Netflix"
   ]
  },
  {
   "cell_type": "markdown",
   "metadata": {},
   "source": [
    "### Amount Of Genres On Netflix"
   ]
  },
  {
   "cell_type": "code",
   "execution_count": 117,
   "metadata": {},
   "outputs": [
    {
     "name": "stdout",
     "output_type": "stream",
     "text": [
      "Amount of Genres On Netflix\n",
      "Documentary    1065\n",
      "Thriller       1050\n",
      "Sci-Fi         1041\n",
      "Comedy         1033\n",
      "Action         1030\n",
      "Drama           995\n",
      "Name: Genre, dtype: int64\n"
     ]
    },
    {
     "data": {
      "image/png": "[encoded data removed]",
      "text/plain": [
       "<Figure size 640x480 with 1 Axes>"
      ]
     },
     "metadata": {},
     "output_type": "display_data"
    }
   ],
   "source": [
    "# Assuming 'Genre' is the column containing genre information\n",
    "genre_counts = df['Genre'].value_counts()\n",
    "\n",
    "# Print the most popular genres\n",
    "print(\"Amount of Genres On Netflix\")\n",
    "print(genre_counts)\n",
    "\n",
    "# Plot the most popular genres\n",
    "genre_counts.plot(kind='bar')\n",
    "plt.title('Amount Of Genres On Netflix')\n",
    "plt.xlabel('Genre')\n",
    "plt.ylabel('Count')\n",
    "plt.show()"
   ]
  },
  {
   "cell_type": "markdown",
   "metadata": {},
   "source": [
    "## Netflix Content Consumption Analysis"
   ]
  },
  {
   "cell_type": "markdown",
   "metadata": {},
   "source": [
    "### Most Popular Devices Used On Netflix"
   ]
  },
  {
   "cell_type": "markdown",
   "metadata": {},
   "source": [
    "### Most Popular Playback Quality Used On Netflix"
   ]
  },
  {
   "cell_type": "markdown",
   "metadata": {},
   "source": [
    "### Most Popular Subscription Status Used On Netflix"
   ]
  },
  {
   "cell_type": "markdown",
   "metadata": {},
   "source": [
    "## User Demographics Data Analysis"
   ]
  },
  {
   "cell_type": "markdown",
   "metadata": {},
   "source": [
    "### Age Analysis"
   ]
  },
  {
   "cell_type": "markdown",
   "metadata": {},
   "source": [
    "Ideas\n",
    "\n",
    "- Explore the age distribution of Netflix users. You can create age groups (e.g., 18-24, 25-34, 35-44, etc.) and determine whether there are any significant differences in content preferences between users within these age groups."
   ]
  },
  {
   "cell_type": "markdown",
   "metadata": {},
   "source": [
    "### Gender Analysis"
   ]
  },
  {
   "cell_type": "markdown",
   "metadata": {},
   "source": [
    "Ideas\n",
    "\n",
    "- Investigate the gender distribution of Netflix users. Determine whether there are any significant differences in content preferences between male and female users."
   ]
  },
  {
   "cell_type": "markdown",
   "metadata": {},
   "source": [
    "## Geographic Trends"
   ]
  },
  {
   "cell_type": "markdown",
   "metadata": {},
   "source": [
    "Ideas\n",
    "\n",
    "- Analyze user demographics based on geographical location. Explore which regions or countries have the highest concentration of Netflix users and whether there are regional preferences in terms of content."
   ]
  },
  {
   "cell_type": "markdown",
   "metadata": {},
   "source": [
    "Ideas to Improve Code\n",
    "\n",
    "Functions"
   ]
  },
  {
   "cell_type": "markdown",
   "metadata": {},
   "source": [
    "Notes of What I have Learned\n",
    "\n",
    "- Always know what are all the options that a column can have for a value\n",
    "- Always know the data type that the values of the column you are working with are, ex. make sure numbers are not strings\n",
    "- Do not make a column of numbers a string in the database lol\n",
    "- Check datatypes of dataframe after creating it from tuples converted to arrays to df"
   ]
  },
  {
   "cell_type": "code",
   "execution_count": null,
   "metadata": {},
   "outputs": [],
   "source": []
  }
 ],
 "metadata": {
  "kernelspec": {
   "display_name": "base",
   "language": "python",
   "name": "python3"
  },
  "language_info": {
   "codemirror_mode": {
    "name": "ipython",
    "version": 3
   },
   "file_extension": ".py",
   "mimetype": "text/x-python",
   "name": "python",
   "nbconvert_exporter": "python",
   "pygments_lexer": "ipython3",
   "version": "3.9.13"
  }
 },
 "nbformat": 4,
 "nbformat_minor": 2
}
