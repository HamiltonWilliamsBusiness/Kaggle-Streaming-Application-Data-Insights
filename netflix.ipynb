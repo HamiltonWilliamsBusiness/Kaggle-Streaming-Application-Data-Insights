{
 "cells": [
  {
   "cell_type": "code",
   "execution_count": 8,
   "metadata": {},
   "outputs": [
    {
     "name": "stdout",
     "output_type": "stream",
     "text": [
      "Collecting pypyodbc\n",
      "  Using cached pypyodbc-1.3.6.tar.gz (24 kB)\n",
      "  Preparing metadata (setup.py): started\n",
      "  Preparing metadata (setup.py): finished with status 'done'\n",
      "Requirement already satisfied: setuptools in c:\\users\\hamil\\documents\\programming\\anacondaz\\lib\\site-packages (from pypyodbc) (63.4.1)\n",
      "Building wheels for collected packages: pypyodbc\n",
      "  Building wheel for pypyodbc (setup.py): started\n",
      "  Building wheel for pypyodbc (setup.py): finished with status 'done'\n",
      "  Created wheel for pypyodbc: filename=pypyodbc-1.3.6-py3-none-any.whl size=22857 sha256=5af33fd9518cf38a98ddddb681e7d8c2184de29619b3bd591c5e9baeeb28d479\n",
      "  Stored in directory: c:\\users\\hamil\\appdata\\local\\pip\\cache\\wheels\\4a\\b0\\00\\a014827d8966a4b2601f6bff537634a1fe3e7b4269fe668879\n",
      "Successfully built pypyodbc\n",
      "Installing collected packages: pypyodbc\n",
      "Successfully installed pypyodbc-1.3.6\n",
      "Requirement already satisfied: numpy in c:\\users\\hamil\\documents\\programming\\anacondaz\\lib\\site-packages (1.24.4)\n"
     ]
    }
   ],
   "source": [
    "# Libarary Installations\n",
    "\n",
    "# !pip install pypyodbc\n",
    "# !pip install numpy\n",
    "# !pip install pandas\n"
   ]
  },
  {
   "cell_type": "code",
   "execution_count": 14,
   "metadata": {},
   "outputs": [],
   "source": [
    "# Imports\n",
    "\n",
    "import pypyodbc as odbc # pip install pypyodbc\n",
    "import numpy as np # pip install numpy\n",
    "import pandas as pd # pip install pandas"
   ]
  },
  {
   "cell_type": "code",
   "execution_count": 11,
   "metadata": {},
   "outputs": [
    {
     "name": "stdout",
     "output_type": "stream",
     "text": [
      "<pypyodbc.Connection object at 0x000001FC703C48E0>\n"
     ]
    }
   ],
   "source": [
    "# Connect to database\n",
    "\n",
    "DRIVER_NAME =   \"SQL SERVER\"\n",
    "SERVER_NAME = \"LAPTOP-KBAD6AQA\\SQLEXPRESS\"\n",
    "DATABASE_NAME = 'Netflix'\n",
    "\n",
    "connection_string = f\"\"\"\n",
    "    DRIVER={{{DRIVER_NAME}}};\n",
    "    SERVER={{{SERVER_NAME}}};\n",
    "    DATABASE={{{DATABASE_NAME}}};\n",
    "    Trust_Connection=yes;\n",
    "\"\"\"\n",
    "\n",
    "conn = odbc.connect(connection_string)\n",
    "print(conn)\n"
   ]
  },
  {
   "cell_type": "code",
   "execution_count": 16,
   "metadata": {},
   "outputs": [
    {
     "name": "stdout",
     "output_type": "stream",
     "text": [
      "                                User_ID                            Session_ID  \\\n",
      "0  eb4f9229-74df-45f6-baac-cf19241b8b30  cb2142a7-0750-49ed-b8ac-a975fe1ff69a   \n",
      "1  661d4b59-4328-410a-901c-1e3b4c40c334  3bc0a662-b353-4015-8b0c-55ceb510d13a   \n",
      "2  dd3fe9e9-ea82-4891-ab93-8a47c80e3251  bd545b4a-9f54-4e87-b9f8-15ae20b44f22   \n",
      "3  a1b3365b-1d00-4ddf-bc43-02fc9c10c680  0441086d-c59e-478d-a496-5c5b995ecfdb   \n",
      "4  338d3f91-5f1c-4590-8803-324901826406  0295f01d-7f15-4799-856c-90c688697ef8   \n",
      "\n",
      "  Device_ID Video_ID        Genre      Country  \\\n",
      "0       232       11  90.04452533       Sci-Fi   \n",
      "1       549       85  68.97347929       Comedy   \n",
      "2       844       50  42.51134326       Comedy   \n",
      "3       201       38  53.31666005  Documentary   \n",
      "4       700       31  69.43778589       Action   \n",
      "\n",
      "                                Age Gender Subscription_Status  Ratings  \\\n",
      "0                             Sudan     56              Female  Premium   \n",
      "1                              Cuba     52                Male  Premium   \n",
      "2                             Japan     14              Female  Premium   \n",
      "3  Lao People's Democratic Republic     36                Male  Premium   \n",
      "4                        Bangladesh     31                Male  Premium   \n",
      "\n",
      "  Languages Device_Type    Location  Playback_Quality Interaction_Events      \n",
      "0         3     Spanish  Smartphone         Reedshire                 4K  73  \n",
      "1         3     Chinese     Desktop       Stevenhaven                 SD  22  \n",
      "2         3     Spanish      Tablet        Vaughntown                 HD  41  \n",
      "3         2     Spanish      Laptop  East Raymondbury                 SD  40  \n",
      "4         4      German      Laptop    Michaelchester                 HD  41  \n"
     ]
    }
   ],
   "source": [
    "try:\n",
    "    # Establish a connection\n",
    "    conn = odbc.connect(connection_string)\n",
    "\n",
    "    # Create a cursor\n",
    "    cursor = conn.cursor()\n",
    "\n",
    "    # Example query\n",
    "    query = \"SELECT * FROM Streaming_Data\"\n",
    "    cursor.execute(query)\n",
    "\n",
    "    # Fetch and print results\n",
    "    rows = cursor.fetchall()\n",
    "\n",
    "    # Convert tuples to numpy arrays\n",
    "    arrays = [np.array(row) for row in rows]\n",
    "\n",
    "    # Print the length of each row\n",
    "    # for i, row in enumerate(arrays):\n",
    "    #     print(f\"Row {i + 1}: {len(row)} elements\")\n",
    "\n",
    "    # Create a DataFrame from the arrays\n",
    "    columns = [\"User_ID\", \"Session_ID\", \"Device_ID\", \"Video_ID\", \"Duration_Watched_minutes\",\"Genre\", \"Country\", \"Age\", \"Gender\", \"Subscription_Status\", \"Ratings\", \"Languages\", \"Device_Type\", \"Location\", \"Playback_Quality\", \"Interaction_Events\"]\n",
    "    df = pd.DataFrame(arrays, columns=columns)\n",
    "\n",
    "    # Print the DataFrame\n",
    "    print(df.head())\n",
    "\n",
    "except odbc.Error as e:\n",
    "    print(f\"Error: {e}\")\n",
    "\n",
    "finally:\n",
    "    # Close the connection\n",
    "    if conn:\n",
    "        conn.close()"
   ]
  }
 ],
 "metadata": {
  "kernelspec": {
   "display_name": "base",
   "language": "python",
   "name": "python3"
  },
  "language_info": {
   "codemirror_mode": {
    "name": "ipython",
    "version": 3
   },
   "file_extension": ".py",
   "mimetype": "text/x-python",
   "name": "python",
   "nbconvert_exporter": "python",
   "pygments_lexer": "ipython3",
   "version": "3.9.13"
  }
 },
 "nbformat": 4,
 "nbformat_minor": 2
}
